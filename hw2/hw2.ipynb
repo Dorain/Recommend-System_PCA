{
 "cells": [
  {
   "cell_type": "code",
   "execution_count": 279,
   "metadata": {
    "collapsed": true
   },
   "outputs": [],
   "source": [
    "import numpy \n",
    "import urllib\n",
    "import scipy.optimize\n",
    "import random\n",
    "from math import exp\n",
    "from math import log"
   ]
  },
  {
   "cell_type": "code",
   "execution_count": 54,
   "metadata": {
    "collapsed": true
   },
   "outputs": [],
   "source": [
    "random.seed(0)\n",
    "\n",
    "def parseData(fname):\n",
    "  for l in urllib.urlopen(fname):\n",
    "    yield eval(l)"
   ]
  },
  {
   "cell_type": "code",
   "execution_count": 55,
   "metadata": {
    "collapsed": false
   },
   "outputs": [],
   "source": [
    "def inner(x,y):\n",
    "  return sum([x[i]*y[i] for i in range(len(x))])\n",
    "\n",
    "def sigmoid(x):\n",
    "  return 1.0 / (1 + exp(-x))"
   ]
  },
  {
   "cell_type": "code",
   "execution_count": 56,
   "metadata": {
    "collapsed": true
   },
   "outputs": [],
   "source": [
    "##################################################\n",
    "# Logistic regression by gradient ascent         #\n",
    "##################################################\n",
    "\n",
    "# NEGATIVE Log-likelihood\n",
    "def f(theta, X, y, lam):\n",
    "  loglikelihood = 0\n",
    "  for i in range(len(X)):\n",
    "    logit = inner(X[i], theta)\n",
    "    loglikelihood -= log(1 + exp(-logit))\n",
    "    if not y[i]:\n",
    "      loglikelihood -= logit\n",
    "  for k in range(len(theta)):\n",
    "    loglikelihood -= lam * theta[k]*theta[k]\n",
    "  # for debugging\n",
    "  # print \"ll =\", loglikelihood\n",
    "  return -loglikelihood\n",
    "\n",
    "# NEGATIVE Derivative of log-likelihood\n",
    "def fprime(theta, X, y, lam):\n",
    "  dl = [0]*len(theta)\n",
    "  for i in range(len(X)):\n",
    "    logit = inner(X[i], theta)\n",
    "    for k in range(len(theta)):\n",
    "      dl[k] += X[i][k] * (1 - sigmoid(logit))\n",
    "      if not y[i]:\n",
    "        dl[k] -= X[i][k]\n",
    "  for k in range(len(theta)):\n",
    "    dl[k] -= lam*2*theta[k]\n",
    "  return numpy.array([-x for x in dl])"
   ]
  },
  {
   "cell_type": "code",
   "execution_count": 58,
   "metadata": {
    "collapsed": false
   },
   "outputs": [],
   "source": [
    "def parse_data(X,y):\n",
    "    X_train = X[:int(len(X)/3)]\n",
    "    y_train = y[:int(len(y)/3)]\n",
    "    X_validate = X[int(len(X)/3):int(2*len(X)/3)]\n",
    "    y_validate = y[int(len(y)/3):int(2*len(y)/3)]\n",
    "    X_test = X[int(2*len(X)/3):]\n",
    "    y_test = y[int(2*len(X)/3):]\n",
    "    return X_train,y_train,X_validate,y_validate, X_test, y_test"
   ]
  },
  {
   "cell_type": "code",
   "execution_count": 59,
   "metadata": {
    "collapsed": true
   },
   "outputs": [],
   "source": [
    "##################################################\n",
    "# Train                                          #\n",
    "##################################################\n",
    "\n",
    "def train(lam):\n",
    "  theta,_,_ = scipy.optimize.fmin_l_bfgs_b(f, [0]*len(X[0]), fprime, pgtol = 10, args = (X_train, y_train, lam))\n",
    "  return theta\n",
    "\n",
    "##################################################\n",
    "# Predict                                        #\n",
    "##################################################\n",
    "\n",
    "def performance(theta):\n",
    "  scores_train = [inner(theta,x) for x in X_train]\n",
    "  scores_validate = [inner(theta,x) for x in X_validate]\n",
    "  scores_test = [inner(theta,x) for x in X_test]\n",
    "\n",
    "  predictions_train = [s > 0 for s in scores_train]\n",
    "  predictions_validate = [s > 0 for s in scores_validate]\n",
    "  predictions_test = [s > 0 for s in scores_test]\n",
    "\n",
    "  correct_train = [(a==b) for (a,b) in zip(predictions_train,y_train)]\n",
    "  correct_validate = [(a==b) for (a,b) in zip(predictions_validate,y_validate)]\n",
    "  correct_test = [(a==b) for (a,b) in zip(predictions_test,y_test)]\n",
    "  \n",
    "  acc_train = sum(correct_train) * 1.0 / len(correct_train)\n",
    "  acc_validate = sum(correct_validate) * 1.0 / len(correct_validate)\n",
    "  acc_test = sum(correct_test) * 1.0 / len(correct_test)\n",
    "  return acc_train, acc_validate, acc_test"
   ]
  },
  {
   "cell_type": "markdown",
   "metadata": {},
   "source": [
    "# Prob1\n",
    "lambda = 0;\ttrain=0.755514705882; validate=0.72933251684; test=0.758726270667\n",
    "\n",
    "lambda = 0.01;\ttrain=0.755514705882; validate=0.729944886712; test=0.758726270667\n",
    "\n",
    "lambda = 1.0;\ttrain=0.742034313725; validate=0.718309859155; test=0.744029393754\n",
    "\n",
    "lambda = 100.0;\ttrain=0.696691176471; validate=0.654011022658; test=0.687691365585"
   ]
  },
  {
   "cell_type": "code",
   "execution_count": 184,
   "metadata": {
    "collapsed": false
   },
   "outputs": [
    {
     "name": "stdout",
     "output_type": "stream",
     "text": [
      "Reading data...\n",
      "done\n",
      "shuffle data\n",
      "done\n"
     ]
    }
   ],
   "source": [
    "print \"Reading data...\"\n",
    "dataFile = open(\"winequality-white.csv\")\n",
    "header = dataFile.readline()\n",
    "fields = [\"constant\"] + header.strip().replace('\"','').split(';')\n",
    "featureNames = fields[:-1]\n",
    "labelName = fields[-1]\n",
    "lines = [[1.0] + [float(x) for x in l.split(';')] for l in dataFile]\n",
    "print \"done\"\n",
    "X = [l[:-1] for l in lines]\n",
    "y = [l[-1] > 5 for l in lines]\n",
    "print \"shuffle data\"\n",
    "numpy.random.shuffle(lines)\n",
    "print \"done\"\n",
    "X_shuffle = [l[:-1] for l in lines]\n",
    "y_shuffle = [l[-1] > 5 for l in lines]"
   ]
  },
  {
   "cell_type": "code",
   "execution_count": 61,
   "metadata": {
    "collapsed": false
   },
   "outputs": [],
   "source": [
    "X_train,y_train,X_validate,y_validate, X_test, y_test = parse_data(X_shuffle, y_shuffle)"
   ]
  },
  {
   "cell_type": "code",
   "execution_count": 62,
   "metadata": {
    "collapsed": false,
    "scrolled": true
   },
   "outputs": [
    {
     "name": "stdout",
     "output_type": "stream",
     "text": [
      "lambda = 0;\ttrain=0.755514705882; validate=0.72933251684; test=0.758726270667\n",
      "lambda = 0.01;\ttrain=0.755514705882; validate=0.729944886712; test=0.758726270667\n",
      "lambda = 1.0;\ttrain=0.742034313725; validate=0.718309859155; test=0.744029393754\n",
      "lambda = 100.0;\ttrain=0.696691176471; validate=0.654011022658; test=0.687691365585\n"
     ]
    }
   ],
   "source": [
    "##################################################\n",
    "# Validation pipeline                            #\n",
    "##################################################\n",
    "\n",
    "for lam in [0, 0.01, 1.0, 100.0]:\n",
    "  theta = train(lam)\n",
    "  acc_train, acc_validate, acc_test = performance(theta)\n",
    "  print(\"lambda = \" + str(lam) + \";\\ttrain=\" + str(acc_train) + \"; validate=\" + str(acc_validate) + \"; test=\" + str(acc_test))"
   ]
  },
  {
   "cell_type": "markdown",
   "metadata": {},
   "source": [
    "# Prob2\n",
    "TP =  958 ;FP =  324 ;TN =  237 ;FN =  113 ;BER =  0.287793626031"
   ]
  },
  {
   "cell_type": "code",
   "execution_count": 185,
   "metadata": {
    "collapsed": false
   },
   "outputs": [],
   "source": [
    "X_train,y_train,X_validate,y_validate, X_test, y_test = parse_data(X, y)\n",
    "theta = train(0.01)"
   ]
  },
  {
   "cell_type": "code",
   "execution_count": 187,
   "metadata": {
    "collapsed": false
   },
   "outputs": [
    {
     "name": "stdout",
     "output_type": "stream",
     "text": [
      "TP =  1129 ;FP =  321 ;TN =  145 ;FN =  38 ;BER =  0.214514791784\n"
     ]
    }
   ],
   "source": [
    "\n",
    "scores_train = [inner(theta,x) for x in X_train]\n",
    "scores_validate = [inner(theta,x) for x in X_validate]\n",
    "scores_test = [inner(theta,x) for x in X_test]\n",
    "\n",
    "predictions_train = [s > 0 for s in scores_train]\n",
    "predictions_validate = [s > 0 for s in scores_validate]\n",
    "predictions_test = [s > 0 for s in scores_test]\n",
    "\n",
    "correct_train = [(a==b) for (a,b) in zip(predictions_train,y_train)]\n",
    "correct_validate = [(a==b) for (a,b) in zip(predictions_validate,y_validate)]\n",
    "correct_test = [(a==b) for (a,b) in zip(predictions_test,y_test)]\n",
    "\n",
    "true_positive = [(a==b==True) for (a,b) in zip(predictions_test,y_test)]\n",
    "false_positive = [(a==True!=b) for (a,b) in zip(predictions_test,y_test)]\n",
    "true_negative = [(a==b==False) for (a,b) in zip(predictions_test,y_test)]\n",
    "false_negative = [(a==False!=b) for (a,b) in zip(predictions_test,y_test)]\n",
    "\n",
    "FPR = sum(false_positive)*1.0/(sum(true_positive)+sum(false_positive))\n",
    "FNR = sum(false_negative)*1.0/(sum(true_negative)+sum(false_negative))\n",
    "BER = (FPR+FNR)/2\n",
    "print \"TP = \", sum(true_positive), \";FP = \", sum(false_positive), \";TN = \",\\\n",
    "sum(true_negative),\";FN = \", sum(false_negative), \";BER = \",BER\n",
    "# #     return predictions_test"
   ]
  },
  {
   "cell_type": "markdown",
   "metadata": {},
   "source": [
    "# Prob3\n",
    "top  10 ;precision =  1.0 ;recall =  0.00689655172414\n",
    "\n",
    "top  500 ;precision =  1.0 ;recall =  0.344827586207 \n",
    "\n",
    "top  1000 ;precision =  1.0 ;recall =  0.689655172414"
   ]
  },
  {
   "cell_type": "code",
   "execution_count": 222,
   "metadata": {
    "collapsed": false
   },
   "outputs": [],
   "source": [
    "prediction_confi = [(a>0, b, a)for (a,b) in sorted(zip(scores_test, y_test),reverse = True)]"
   ]
  },
  {
   "cell_type": "code",
   "execution_count": 223,
   "metadata": {
    "collapsed": false
   },
   "outputs": [],
   "source": [
    "true_positive = [(a==b==True) for (a,b,_) in prediction_confi]\n",
    "false_positive = [(a==True!=b) for (a,b,_) in prediction_confi]\n",
    "true_negative = [(a==b==False) for (a,b,_) in prediction_confi]\n",
    "false_negative = [(a==False!=b) for (a,b,_) in prediction_confi]"
   ]
  },
  {
   "cell_type": "code",
   "execution_count": 224,
   "metadata": {
    "collapsed": false
   },
   "outputs": [],
   "source": [
    "# tmp_all = [s > 0 for s in score_test_sorted]\n",
    "# print sum(tmp_all),len(tmp_all)"
   ]
  },
  {
   "cell_type": "code",
   "execution_count": 227,
   "metadata": {
    "collapsed": false
   },
   "outputs": [
    {
     "name": "stdout",
     "output_type": "stream",
     "text": [
      "top  10 ;precision =  1.0 ;recall =  0.00856898029135\n",
      "top  500 ;precision =  0.956 ;recall =  0.409597257926\n",
      "top  1000 ;precision =  0.864 ;recall =  0.740359897172\n"
     ]
    }
   ],
   "source": [
    "n = [10,500,1000]\n",
    "for t in n:\n",
    "    tp = sum(true_positive[:t])\n",
    "    precision = tp*1.0/t\n",
    "    recall = tp*1.0/(sum(true_positive)+sum(false_negative))\n",
    "    print \"top \",t,\";precision = \",precision,\";recall = \", recall"
   ]
  },
  {
   "cell_type": "markdown",
   "metadata": {},
   "source": [
    "# Prob4"
   ]
  },
  {
   "cell_type": "code",
   "execution_count": 135,
   "metadata": {
    "collapsed": true
   },
   "outputs": [],
   "source": [
    "%matplotlib inline\n",
    "\n",
    "import matplotlib\n",
    "import matplotlib.pyplot as plt"
   ]
  },
  {
   "cell_type": "code",
   "execution_count": 197,
   "metadata": {
    "collapsed": true
   },
   "outputs": [],
   "source": [
    "n = range(1,len(score_test_sorted))"
   ]
  },
  {
   "cell_type": "code",
   "execution_count": 228,
   "metadata": {
    "collapsed": false
   },
   "outputs": [],
   "source": [
    "precision = []\n",
    "recall =[]\n",
    "for i in range(1,len(score_test_sorted)):\n",
    "    tp = sum(true_positive[:i])\n",
    "    p = tp*1.0/i\n",
    "    r = tp*1.0/(sum(true_positive)+sum(false_negative))\n",
    "    precision.append(p)\n",
    "    recall.append(r)"
   ]
  },
  {
   "cell_type": "code",
   "execution_count": 230,
   "metadata": {
    "collapsed": false
   },
   "outputs": [
    {
     "data": {
      "image/png": "[encoded data removed]",
      "text/plain": [
       "<matplotlib.figure.Figure at 0x1142e83d0>"
      ]
     },
     "metadata": {},
     "output_type": "display_data"
    }
   ],
   "source": [
    "plt.plot(recall, precision,linewidth=1.0)\n",
    "# plt.semilogx(recall, precision,linewidth=5.0)\n",
    "plt.xlabel('recall')\n",
    "plt.ylabel('precision')\n",
    "plt.title('precision vs recall')\n",
    "plt.show()"
   ]
  },
  {
   "cell_type": "markdown",
   "metadata": {},
   "source": [
    "# Prob5\n",
    "1780.2763558"
   ]
  },
  {
   "cell_type": "code",
   "execution_count": 320,
   "metadata": {
    "collapsed": false
   },
   "outputs": [
    {
     "data": {
      "text/plain": [
       "1780.2763558007775"
      ]
     },
     "execution_count": 320,
     "metadata": {},
     "output_type": "execute_result"
    }
   ],
   "source": [
    "sum(numpy.var(numpy.array(X_test),0))\n",
    "#     *len(X_test[0]))"
   ]
  },
  {
   "cell_type": "code",
   "execution_count": 325,
   "metadata": {
    "collapsed": false
   },
   "outputs": [
    {
     "name": "stdout",
     "output_type": "stream",
     "text": [
      "1780.2763558\n",
      "1780.2763558\n"
     ]
    }
   ],
   "source": [
    "X_bar = numpy.mean(X_test, axis=0)\n",
    "\n",
    "tmp = numpy.array(X_bar)\n",
    "t = numpy.tile(tmp, [len(X_test),1])\n",
    "# numpy.array(X_test) - t\n",
    "reconstruction_error = mean_squared_error(t, X_test) * len(X_test[0])\n",
    "print reconstruction_error\n",
    "print numpy.sum((t-X_test)**2)/len(X_test)"
   ]
  },
  {
   "cell_type": "markdown",
   "metadata": {},
   "source": [
    "# Prob6"
   ]
  },
  {
   "cell_type": "code",
   "execution_count": 269,
   "metadata": {
    "collapsed": true
   },
   "outputs": [],
   "source": [
    "import numpy\n",
    "import urllib\n",
    "import scipy.optimize\n",
    "import random\n",
    "from sklearn.decomposition import PCA\n",
    "from collections import defaultdict\n",
    "\n",
    "### PCA on beer reviews ###"
   ]
  },
  {
   "cell_type": "code",
   "execution_count": 331,
   "metadata": {
    "collapsed": false
   },
   "outputs": [
    {
     "name": "stdout",
     "output_type": "stream",
     "text": [
      "[[  0.00000000e+00  -3.23636346e-04   1.42201752e-04   3.17030713e-04\n",
      "    5.36390435e-02   9.30284526e-05   2.54030965e-01   9.65655009e-01\n",
      "    3.19990241e-05  -2.95831396e-04   3.84043646e-04  -1.00526693e-02]\n",
      " [  0.00000000e+00   7.57985623e-03   1.66366340e-03  -1.04742899e-03\n",
      "   -5.21677266e-02  -4.49425600e-05  -9.65020304e-01   2.56793964e-01\n",
      "   -7.90089050e-06  -5.24900596e-04   1.09699394e-03   2.89827657e-03]\n",
      " [  0.00000000e+00  -1.82124420e-02  -2.54680710e-03  -3.31838657e-03\n",
      "   -9.93221259e-01   1.51888372e-04   6.42297821e-02   3.91682592e-02\n",
      "   -4.30929482e-04   6.93199060e-03   2.85216045e-03   8.62920933e-02]\n",
      " [  0.00000000e+00  -1.56811999e-01  -3.28220652e-03  -1.66866136e-02\n",
      "   -8.28549640e-02   6.91822288e-03  -1.13029682e-03  -5.39110108e-03\n",
      "    9.49080503e-04  -2.68027305e-03  -1.30498102e-03  -9.83955205e-01]\n",
      " [  0.00000000e+00   9.81360642e-01  -1.45890108e-02   5.92643662e-02\n",
      "   -3.17546064e-02   5.07483182e-04   8.43759364e-03  -1.77578042e-03\n",
      "    6.03725221e-04  -9.05011239e-02  -9.35630845e-03  -1.54417839e-01]\n",
      " [  0.00000000e+00  -7.76578401e-02   2.37665885e-01  -2.23406619e-02\n",
      "   -5.04113878e-03   1.43564098e-02   2.14210997e-04   2.22913844e-04\n",
      "   -3.36617054e-03  -8.77254205e-01  -4.08570175e-01   1.54145486e-02]\n",
      " [  0.00000000e+00  -7.36289612e-02  -2.61563804e-01   9.43067566e-01\n",
      "   -2.14514264e-03   1.19104298e-02  -1.68808905e-03   1.42294158e-04\n",
      "   -1.17203197e-04  -1.45895558e-01   1.23868963e-01  -2.88797236e-03]\n",
      " [  0.00000000e+00   1.37617196e-02  -2.11129619e-01   1.16514121e-01\n",
      "   -5.30670319e-04  -1.05181628e-02  -1.36446528e-03   8.21179429e-04\n",
      "   -3.09221855e-04   3.58358431e-01  -9.01728510e-01  -3.27758247e-03]\n",
      " [  0.00000000e+00   1.74575775e-02   9.10890084e-01   3.04081497e-01\n",
      "   -2.89763923e-03   2.34615054e-02   1.17406025e-03  -3.85957239e-04\n",
      "    1.23176271e-03   2.68927937e-01  -6.70756658e-02  -1.12101920e-02]\n",
      " [  0.00000000e+00   2.31513441e-03  -2.38717789e-02  -1.67445603e-02\n",
      "    8.92206499e-04   9.99462734e-01  -9.81109101e-05  -3.32812875e-05\n",
      "    4.14235255e-03   1.18483756e-02  -3.51543098e-03   6.92344110e-03]\n",
      " [ -0.00000000e+00   7.48312160e-04   3.08204153e-04   2.55232500e-04\n",
      "    3.49846801e-04   4.12943179e-03  -6.96565372e-06   4.16951216e-06\n",
      "   -9.99984215e-01   3.17948604e-03   1.53436134e-03  -1.10029138e-03]\n",
      " [  1.00000000e+00   0.00000000e+00   0.00000000e+00   0.00000000e+00\n",
      "    0.00000000e+00   0.00000000e+00   0.00000000e+00   0.00000000e+00\n",
      "    0.00000000e+00   0.00000000e+00   0.00000000e+00   0.00000000e+00]]\n"
     ]
    }
   ],
   "source": [
    "# def parseData(fname):\n",
    "#   for l in urllib.urlopen(fname):\n",
    "#     yield eval(l)\n",
    "\n",
    "# print \"Reading data...\"\n",
    "# data = list(parseData(\"http://jmcauley.ucsd.edu/cse190/data/beer/beer_50000.json\"))\n",
    "# print \"done\"\n",
    "\n",
    "# X = [[x['review/overall'], x['review/taste'], x['review/aroma'], x['review/appearance'], x['review/palate']] for x in data]\n",
    "\n",
    "pca = PCA()\n",
    "pca.fit(X_train)\n",
    "print pca.components_"
   ]
  },
  {
   "cell_type": "markdown",
   "metadata": {},
   "source": [
    "# Prob7\n",
    "0.824433562562"
   ]
  },
  {
   "cell_type": "code",
   "execution_count": 276,
   "metadata": {
    "collapsed": false,
    "scrolled": true
   },
   "outputs": [
    {
     "name": "stdout",
     "output_type": "stream",
     "text": [
      "[[  0.00000000e+00  -3.23636346e-04   1.42201752e-04   3.17030713e-04\n",
      "    5.36390435e-02   9.30284526e-05   2.54030965e-01   9.65655009e-01\n",
      "    3.19990241e-05  -2.95831396e-04   3.84043646e-04  -1.00526693e-02]\n",
      " [  0.00000000e+00   7.57985623e-03   1.66366340e-03  -1.04742899e-03\n",
      "   -5.21677266e-02  -4.49425600e-05  -9.65020304e-01   2.56793964e-01\n",
      "   -7.90089050e-06  -5.24900596e-04   1.09699394e-03   2.89827657e-03]\n",
      " [  0.00000000e+00  -1.82124420e-02  -2.54680710e-03  -3.31838657e-03\n",
      "   -9.93221259e-01   1.51888372e-04   6.42297821e-02   3.91682592e-02\n",
      "   -4.30929482e-04   6.93199060e-03   2.85216045e-03   8.62920933e-02]\n",
      " [  0.00000000e+00  -1.56811999e-01  -3.28220652e-03  -1.66866136e-02\n",
      "   -8.28549640e-02   6.91822288e-03  -1.13029682e-03  -5.39110108e-03\n",
      "    9.49080503e-04  -2.68027305e-03  -1.30498102e-03  -9.83955205e-01]]\n"
     ]
    }
   ],
   "source": [
    "pca = PCA(n_components = 4)\n",
    "pca.fit(X_train)\n",
    "print pca.components_"
   ]
  },
  {
   "cell_type": "code",
   "execution_count": 303,
   "metadata": {
    "collapsed": false
   },
   "outputs": [],
   "source": [
    "# print pca.transform(X_train)[0]\n",
    "# tmp =pca.transform(X_train)[0]\n",
    "# print numpy.dot(pca.components_,X_train[0]-pca.mean_)\n",
    "# print X_train[0]\n",
    "# print pca.inverse_transform(tmp)"
   ]
  },
  {
   "cell_type": "code",
   "execution_count": 304,
   "metadata": {
    "collapsed": false
   },
   "outputs": [],
   "source": [
    "X_rc = pca.inverse_transform(pca.transform(X_train))"
   ]
  },
  {
   "cell_type": "code",
   "execution_count": 321,
   "metadata": {
    "collapsed": true
   },
   "outputs": [],
   "source": [
    "reconstruction_error = mean_squared_error(X_rc, X_train) * len(X_train[0])"
   ]
  },
  {
   "cell_type": "code",
   "execution_count": 322,
   "metadata": {
    "collapsed": false
   },
   "outputs": [
    {
     "name": "stdout",
     "output_type": "stream",
     "text": [
      "0.824433562562\n"
     ]
    }
   ],
   "source": [
    "print reconstruction_error"
   ]
  },
  {
   "cell_type": "markdown",
   "metadata": {},
   "source": [
    "# Prob 8\n",
    "As more dimensions are used, the mse of training gets smaller while mse of testing gets bigger;\n",
    "which implies that the LR for training become overfitting and the prediction for testing gets worse;\n",
    "\n",
    "1 dimension(s); mse of training 0.762990179268 mse of testing 0.797101643722\n",
    "\n",
    "2 dimension(s); mse of training 0.762473588874 mse of testing 0.798537987919\n",
    "\n",
    "3 dimension(s); mse of training 0.762258774564 mse of testing 0.799696473979\n",
    "\n",
    "4 dimension(s); mse of training 0.762253940342 mse of testing 0.799722068916\n",
    "\n",
    "5 dimension(s); mse of training 0.76220707837 mse of testing 0.799680157945\n",
    "\n",
    "6 dimension(s); mse of training 0.761887403996 mse of testing 0.800468499436\n",
    "\n",
    "7 dimension(s); mse of training 0.761684672287 mse of testing 0.800821189728\n",
    "\n",
    "8 dimension(s); mse of training 0.759746637862 mse of testing 0.803946441825\n",
    "\n",
    "9 dimension(s); mse of training 0.759713412903 mse of testing 0.804227079063\n",
    "\n",
    "10 dimension(s); mse of training 0.759472448622 mse of testing 0.804727548528\n",
    "\n",
    "11 dimension(s); mse of training 0.758726469882 mse of testing 0.803930574366\n"
   ]
  },
  {
   "cell_type": "code",
   "execution_count": 378,
   "metadata": {
    "collapsed": false
   },
   "outputs": [],
   "source": [
    "X_lr = [l[:-1] for l in lines]\n",
    "y_lr = [l[-1] for l in lines]\n",
    "_,y_train_lr,_,_,_, y_test_lr = parse_data(X_lr, y_lr)"
   ]
  },
  {
   "cell_type": "code",
   "execution_count": null,
   "metadata": {
    "collapsed": true
   },
   "outputs": [],
   "source": [
    "mse_p_a = numpy.sum((y_t-y_p_a)**2)/len(y_t)"
   ]
  },
  {
   "cell_type": "code",
   "execution_count": 379,
   "metadata": {
    "collapsed": false
   },
   "outputs": [],
   "source": [
    "pca = PCA()\n",
    "pca.fit(X_train)\n",
    "X_train_pca =  pca.transform(X_train)\n",
    "X_test_pca =  pca.transform(X_test)"
   ]
  },
  {
   "cell_type": "code",
   "execution_count": null,
   "metadata": {
    "collapsed": true
   },
   "outputs": [],
   "source": [
    "def feature(d):\n",
    "    t = [1.0]\n",
    "    t.extend(d)\n",
    "    return t"
   ]
  },
  {
   "cell_type": "code",
   "execution_count": 385,
   "metadata": {
    "collapsed": false
   },
   "outputs": [
    {
     "name": "stdout",
     "output_type": "stream",
     "text": [
      "1 dimension(s); mse of training 0.762990179268 mse of testing 0.797101643722\n",
      "\n",
      "2 dimension(s); mse of training 0.762473588874 mse of testing 0.798537987919\n",
      "\n",
      "3 dimension(s); mse of training 0.762258774564 mse of testing 0.799696473979\n",
      "\n",
      "4 dimension(s); mse of training 0.762253940342 mse of testing 0.799722068916\n",
      "\n",
      "5 dimension(s); mse of training 0.76220707837 mse of testing 0.799680157945\n",
      "\n",
      "6 dimension(s); mse of training 0.761887403996 mse of testing 0.800468499436\n",
      "\n",
      "7 dimension(s); mse of training 0.761684672287 mse of testing 0.800821189728\n",
      "\n",
      "8 dimension(s); mse of training 0.759746637862 mse of testing 0.803946441825\n",
      "\n",
      "9 dimension(s); mse of training 0.759713412903 mse of testing 0.804227079063\n",
      "\n",
      "10 dimension(s); mse of training 0.759472448622 mse of testing 0.804727548528\n",
      "\n",
      "11 dimension(s); mse of training 0.758726469882 mse of testing 0.803930574366\n",
      "\n"
     ]
    }
   ],
   "source": [
    "for n in range(1,12):\n",
    "    # construct data\n",
    "    tmp = X_train_pca[:,:n]\n",
    "    _ = [feature(d) for d in tmp]\n",
    "    _test = [feature(d) for d in X_test_pca[:,:n]]\n",
    "    # fit linear regression\n",
    "    theta,residuals,rank,s = numpy.linalg.lstsq(_, y_train_lr)\n",
    "    y_p = numpy.sum(_ * theta.T, axis = 1)\n",
    "    mse = numpy.sum((y_p-y_train_lr)**2)/len(y_p)\n",
    "\n",
    "    y_p_test = numpy.sum(_test* theta.T, axis = 1)\n",
    "    mse_test = numpy.sum((y_p_test-y_test_lr)**2)/len(y_p_test)\n",
    "    print n,'dimension(s);','mse of training',mse,'mse of testing',mse_test\n",
    "    print "
   ]
  },
  {
   "cell_type": "code",
   "execution_count": null,
   "metadata": {
    "collapsed": true
   },
   "outputs": [],
   "source": []
  }
 ],
 "metadata": {
  "kernelspec": {
   "display_name": "Python 2",
   "language": "python",
   "name": "python2"
  },
  "language_info": {
   "codemirror_mode": {
    "name": "ipython",
    "version": 2
   },
   "file_extension": ".py",
   "mimetype": "text/x-python",
   "name": "python",
   "nbconvert_exporter": "python",
   "pygments_lexer": "ipython2",
   "version": "2.7.3"
  }
 },
 "nbformat": 4,
 "nbformat_minor": 0
}
